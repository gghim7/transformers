{
 "cells": [
  {
   "cell_type": "markdown",
   "metadata": {},
   "source": [
    "# Training a multilayer perceptron "
   ]
  },
  {
   "cell_type": "code",
   "execution_count": 1,
   "metadata": {},
   "outputs": [
    {
     "name": "stdout",
     "output_type": "stream",
     "text": [
      "WARNING:tensorflow:From d:\\transformers\\transformer\\lib\\site-packages\\keras\\src\\losses.py:2976: The name tf.losses.sparse_softmax_cross_entropy is deprecated. Please use tf.compat.v1.losses.sparse_softmax_cross_entropy instead.\n",
      "\n"
     ]
    }
   ],
   "source": [
    "import numpy as np\n",
    "import matplotlib.pyplot as plt\n",
    "\n",
    "# Import tf, keras, layers, models, optimizers, and datasets to build our own mlp\n",
    "import tensorflow as tf\n",
    "from tensorflow.keras import layers, models, optimizers, utils, datasets"
   ]
  },
  {
   "cell_type": "markdown",
   "metadata": {},
   "source": [
    "#### Define the classes"
   ]
  },
  {
   "cell_type": "code",
   "execution_count": 2,
   "metadata": {},
   "outputs": [],
   "source": [
    "NUM_CLASSES = 10"
   ]
  },
  {
   "cell_type": "markdown",
   "metadata": {},
   "source": [
    "#### Prepare data"
   ]
  },
  {
   "cell_type": "code",
   "execution_count": 3,
   "metadata": {},
   "outputs": [],
   "source": [
    "(x_train, y_train), (x_test, y_test) = datasets.cifar10.load_data()\n",
    "# In this case, the x values are the pixel values out of 255"
   ]
  },
  {
   "cell_type": "code",
   "execution_count": 4,
   "metadata": {},
   "outputs": [],
   "source": [
    "x_train = x_train.astype(\"float32\") / 255.0\n",
    "x_test = x_test.astype(\"float32\") / 255.0\n",
    "\n",
    "#  convert classes into one-hot encoded vectors\n",
    "y_train = utils.to_categorical(y_train, NUM_CLASSES)\n",
    "y_test = utils.to_categorical(y_test, NUM_CLASSES)"
   ]
  },
  {
   "cell_type": "code",
   "execution_count": 5,
   "metadata": {},
   "outputs": [
    {
     "name": "stdout",
     "output_type": "stream",
     "text": [
      "[[[[0.23137255 0.24313726 0.24705882]\n",
      "   [0.16862746 0.18039216 0.1764706 ]\n",
      "   [0.19607843 0.1882353  0.16862746]\n",
      "   ...\n",
      "   [0.61960787 0.5176471  0.42352942]\n",
      "   [0.59607846 0.49019608 0.4       ]\n",
      "   [0.5803922  0.4862745  0.40392157]]\n",
      "\n",
      "  [[0.0627451  0.07843138 0.07843138]\n",
      "   [0.         0.         0.        ]\n",
      "   [0.07058824 0.03137255 0.        ]\n",
      "   ...\n",
      "   [0.48235294 0.34509805 0.21568628]\n",
      "   [0.46666667 0.3254902  0.19607843]\n",
      "   [0.47843137 0.34117648 0.22352941]]\n",
      "\n",
      "  [[0.09803922 0.09411765 0.08235294]\n",
      "   [0.0627451  0.02745098 0.        ]\n",
      "   [0.19215687 0.10588235 0.03137255]\n",
      "   ...\n",
      "   [0.4627451  0.32941177 0.19607843]\n",
      "   [0.47058824 0.32941177 0.19607843]\n",
      "   [0.42745098 0.28627452 0.16470589]]\n",
      "\n",
      "  ...\n",
      "\n",
      "  [[0.8156863  0.6666667  0.3764706 ]\n",
      "   [0.7882353  0.6        0.13333334]\n",
      "   [0.7764706  0.6313726  0.10196079]\n",
      "   ...\n",
      "   [0.627451   0.52156866 0.27450982]\n",
      "   [0.21960784 0.12156863 0.02745098]\n",
      "   [0.20784314 0.13333334 0.07843138]]\n",
      "\n",
      "  [[0.7058824  0.54509807 0.3764706 ]\n",
      "   [0.6784314  0.48235294 0.16470589]\n",
      "   [0.7294118  0.5647059  0.11764706]\n",
      "   ...\n",
      "   [0.72156864 0.5803922  0.36862746]\n",
      "   [0.38039216 0.24313726 0.13333334]\n",
      "   [0.3254902  0.20784314 0.13333334]]\n",
      "\n",
      "  [[0.69411767 0.5647059  0.45490196]\n",
      "   [0.65882355 0.5058824  0.36862746]\n",
      "   [0.7019608  0.5568628  0.34117648]\n",
      "   ...\n",
      "   [0.84705883 0.72156864 0.54901963]\n",
      "   [0.5921569  0.4627451  0.32941177]\n",
      "   [0.48235294 0.36078432 0.28235295]]]]\n",
      "[[[[0.61960787 0.4392157  0.19215687]\n",
      "   [0.62352943 0.43529412 0.18431373]\n",
      "   [0.64705884 0.45490196 0.2       ]\n",
      "   ...\n",
      "   [0.5372549  0.37254903 0.14117648]\n",
      "   [0.49411765 0.35686275 0.14117648]\n",
      "   [0.45490196 0.33333334 0.12941177]]\n",
      "\n",
      "  [[0.59607846 0.4392157  0.2       ]\n",
      "   [0.5921569  0.43137255 0.15686275]\n",
      "   [0.62352943 0.44705883 0.1764706 ]\n",
      "   ...\n",
      "   [0.53333336 0.37254903 0.12156863]\n",
      "   [0.49019608 0.35686275 0.1254902 ]\n",
      "   [0.46666667 0.34509805 0.13333334]]\n",
      "\n",
      "  [[0.5921569  0.43137255 0.18431373]\n",
      "   [0.5921569  0.42745098 0.12941177]\n",
      "   [0.61960787 0.43529412 0.14117648]\n",
      "   ...\n",
      "   [0.54509807 0.38431373 0.13333334]\n",
      "   [0.50980395 0.37254903 0.13333334]\n",
      "   [0.47058824 0.34901962 0.12941177]]\n",
      "\n",
      "  ...\n",
      "\n",
      "  [[0.26666668 0.4862745  0.69411767]\n",
      "   [0.16470589 0.39215687 0.5803922 ]\n",
      "   [0.12156863 0.34509805 0.5372549 ]\n",
      "   ...\n",
      "   [0.14901961 0.38039216 0.57254905]\n",
      "   [0.05098039 0.2509804  0.42352942]\n",
      "   [0.15686275 0.33333334 0.49803922]]\n",
      "\n",
      "  [[0.23921569 0.45490196 0.65882355]\n",
      "   [0.19215687 0.4        0.5803922 ]\n",
      "   [0.13725491 0.33333334 0.5176471 ]\n",
      "   ...\n",
      "   [0.10196079 0.32156864 0.50980395]\n",
      "   [0.11372549 0.32156864 0.49411765]\n",
      "   [0.07843138 0.2509804  0.41960785]]\n",
      "\n",
      "  [[0.21176471 0.41960785 0.627451  ]\n",
      "   [0.21960784 0.4117647  0.58431375]\n",
      "   [0.1764706  0.34901962 0.5176471 ]\n",
      "   ...\n",
      "   [0.09411765 0.3019608  0.4862745 ]\n",
      "   [0.13333334 0.32941177 0.5058824 ]\n",
      "   [0.08235294 0.2627451  0.43137255]]]]\n"
     ]
    }
   ],
   "source": [
    "print(x_train[:1])\n",
    "print(x_test[:1])"
   ]
  },
  {
   "cell_type": "markdown",
   "metadata": {},
   "source": [
    "#### Build the model"
   ]
  },
  {
   "cell_type": "code",
   "execution_count": null,
   "metadata": {},
   "outputs": [],
   "source": [
    "# The Input layer defines the input shape of the data. \n",
    "# images of height 32, width 32, and 3 color channels (RGB).\n",
    "input_layer = layers.Input((32, 32, 3))\n",
    "\n",
    "# reshapes the input data into a 1D array before feeding it into the subsequent fully connected layers.\n",
    "x = layers.Flatten()(input_layer)\n",
    "\n",
    "# Two Dense layers follow the Flatten layer, with 200 and 150 neurons, respectively. \n",
    "x = layers.Dense(200, activation=\"relu\")(x)\n",
    "x = layers.Dense(150, activation=\"relu\")(x)\n",
    "\n",
    "# Final dense layer\n",
    "# Serves as the output layer, consisting of NUM_CLASSES neurons and utilizes the softmax activation function\n",
    "# The softmax activation normalizes the output into a probability distribution across the classes\n",
    "\n",
    "output_layer = layers.Dense(NUM_CLASSES, activation=\"softmax\")(x)\n",
    "\n",
    "# The models.Model() function combines the defined layers into a functional Model.\n",
    "model = models.Model(input_layer, output_layer)\n",
    "\n",
    "#  provides a summary of the model architecture\n",
    "model.summary()"
   ]
  }
 ],
 "metadata": {
  "kernelspec": {
   "display_name": "transformer",
   "language": "python",
   "name": "python3"
  },
  "language_info": {
   "codemirror_mode": {
    "name": "ipython",
    "version": 3
   },
   "file_extension": ".py",
   "mimetype": "text/x-python",
   "name": "python",
   "nbconvert_exporter": "python",
   "pygments_lexer": "ipython3",
   "version": "3.10.11"
  }
 },
 "nbformat": 4,
 "nbformat_minor": 2
}

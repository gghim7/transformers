{
 "cells": [
  {
   "cell_type": "markdown",
   "metadata": {},
   "source": [
    "### Linear Algebra and Probability"
   ]
  },
  {
   "cell_type": "markdown",
   "metadata": {},
   "source": [
    "#### Linear Algebra"
   ]
  },
  {
   "cell_type": "code",
   "execution_count": 3,
   "metadata": {},
   "outputs": [
    {
     "name": "stdout",
     "output_type": "stream",
     "text": [
      "Matrix A:\n",
      " [[1 2]\n",
      " [3 4]]\n",
      "Matrix B:\n",
      " [[5 6]\n",
      " [7 8]]\n",
      "Addition result:\n",
      " [[ 6  8]\n",
      " [10 12]]\n",
      "Subtraction result:\n",
      " [[-4 -4]\n",
      " [-4 -4]]\n"
     ]
    }
   ],
   "source": [
    "import numpy as np\n",
    "\n",
    "# Define matrices\n",
    "A = np.array([[1, 2], [3, 4]])\n",
    "B = np.array([[5, 6], [7, 8]])\n",
    "\n",
    "# Addition\n",
    "add_result = A + B\n",
    "\n",
    "# Subtraction\n",
    "sub_result = A - B\n",
    "\n",
    "print(\"Matrix A:\\n\", A)\n",
    "print(\"Matrix B:\\n\", B)\n",
    "print(\"Addition result:\\n\", add_result)\n",
    "print(\"Subtraction result:\\n\", sub_result)\n"
   ]
  },
  {
   "cell_type": "code",
   "execution_count": 4,
   "metadata": {},
   "outputs": [
    {
     "name": "stdout",
     "output_type": "stream",
     "text": [
      "Matrix A:\n",
      " [[1 2]\n",
      " [3 4]]\n",
      "Matrix B:\n",
      " [[5 6]\n",
      " [7 8]]\n",
      "Multiplication result:\n",
      " [[19 22]\n",
      " [43 50]]\n"
     ]
    }
   ],
   "source": [
    "# Multiplication\n",
    "mul_result = np.dot(A, B)  # or simply A.dot(B)\n",
    "\n",
    "print(\"Matrix A:\\n\", A)\n",
    "print(\"Matrix B:\\n\", B)\n",
    "print(\"Multiplication result:\\n\", mul_result)"
   ]
  },
  {
   "cell_type": "code",
   "execution_count": 5,
   "metadata": {},
   "outputs": [
    {
     "name": "stdout",
     "output_type": "stream",
     "text": [
      "Matrix A:\n",
      " [[4 7]\n",
      " [2 6]]\n",
      "Inverse of A:\n",
      " [[ 0.6 -0.7]\n",
      " [-0.2  0.4]]\n"
     ]
    }
   ],
   "source": [
    "# Define a matrix\n",
    "A = np.array([[4, 7], [2, 6]])\n",
    "\n",
    "# Calculate inverse\n",
    "try:\n",
    "    A_inv = np.linalg.inv(A)\n",
    "    print(\"Matrix A:\\n\", A)\n",
    "    print(\"Inverse of A:\\n\", A_inv)\n",
    "except np.linalg.LinAlgError:\n",
    "    print(\"Matrix A is singular and cannot be inverted.\")\n"
   ]
  },
  {
   "cell_type": "markdown",
   "metadata": {},
   "source": [
    "## Fundamental Spaces in Matrices\n",
    "\n",
    "In linear algebra, the fundamental spaces of a matrix refer to specific subspaces associated with the matrix that help describe its properties, relationships, and behavior.\n",
    "\n",
    "1. **Column Space (or Range):**\n",
    "   - The column space of a matrix `A` consists of all possible linear combinations of its column vectors.\n",
    "   - It represents the space spanned by the columns of the matrix.\n",
    "   - Denoted as `Col(A)` or `Range(A)`.\n",
    "   - Crucial in understanding the possible outputs of linear transformations represented by the matrix.\n",
    "\n",
    "2. **Row Space:**\n",
    "   - The row space of a matrix `A` consists of all possible linear combinations of its row vectors.\n",
    "   - It represents the space spanned by the rows of the matrix.\n",
    "   - Denoted as `Row(A)`.\n",
    "   - Important in understanding relationships between equations in systems represented by the matrix.\n",
    "\n",
    "3. **Null Space (or Kernel):**\n",
    "   - The null space of a matrix `A` is the set of all vectors `x` that, when multiplied by `A`, produce the zero vector: `Ax = 0`.\n",
    "   - It represents the solutions to the homogeneous equation `Ax = 0`.\n",
    "   - Denoted as `Null(A)` or `Ker(A)`.\n",
    "   - Essential in understanding solutions to homogeneous systems and determining the existence of solutions to non-homogeneous systems.\n",
    "\n",
    "4. **Left Null Space:**\n",
    "   - The left null space of a matrix `A` is the set of all vectors `y` such that `y^T` times `A = 0`, where `y^T` is the transpose of `y`.\n",
    "   - Essentially the orthogonal complement to the row space.\n",
    "   - Denoted as `Null(A^T)`.\n",
    "   - Useful in certain theoretical aspects and computations.\n",
    "\n",
    "These fundamental spaces are essential in understanding the properties of matrices, solving systems of linear equations, and determining the rank and dimensionality of matrices. They provide insights into the behavior of linear transformations, the existence of solutions, and the relationships between vectors and subspaces.\n"
   ]
  },
  {
   "cell_type": "code",
   "execution_count": null,
   "metadata": {},
   "outputs": [],
   "source": []
  },
  {
   "cell_type": "markdown",
   "metadata": {},
   "source": [
    "### Probability"
   ]
  },
  {
   "cell_type": "code",
   "execution_count": 3,
   "metadata": {},
   "outputs": [
    {
     "name": "stdout",
     "output_type": "stream",
     "text": [
      "Dice outcome: 6\n"
     ]
    }
   ],
   "source": [
    "import random\n",
    "\n",
    "# Simulating a single dice roll\n",
    "outcome = random.randint(1, 6)\n",
    "print(\"Dice outcome:\", outcome)\n"
   ]
  },
  {
   "cell_type": "markdown",
   "metadata": {},
   "source": [
    "Suppose you toss two fair coins. What's the probability of getting two heads given that the first coin is heads?"
   ]
  },
  {
   "cell_type": "code",
   "execution_count": 4,
   "metadata": {},
   "outputs": [
    {
     "name": "stdout",
     "output_type": "stream",
     "text": [
      "Conditional Probability of two heads given first head: 0.502167060677699\n"
     ]
    }
   ],
   "source": [
    "# Simulating two coin tosses\n",
    "def two_coin_toss():\n",
    "    coin1 = random.choice(['H', 'T'])\n",
    "    coin2 = random.choice(['H', 'T'])\n",
    "    return coin1, coin2\n",
    "\n",
    "def calculate_probability():\n",
    "    trials = 10000\n",
    "    count_both_heads = 0\n",
    "    count_first_head = 0\n",
    "    \n",
    "    for _ in range(trials):\n",
    "        coin1, coin2 = two_coin_toss()\n",
    "        if coin1 == 'H':\n",
    "            count_first_head += 1\n",
    "            if coin2 == 'H':\n",
    "                count_both_heads += 1\n",
    "\n",
    "    conditional_prob = count_both_heads / count_first_head\n",
    "    print(\"Conditional Probability of two heads given first head:\", conditional_prob)\n",
    "\n",
    "calculate_probability()\n"
   ]
  },
  {
   "cell_type": "markdown",
   "metadata": {},
   "source": [
    "### Probability distribution"
   ]
  },
  {
   "cell_type": "code",
   "execution_count": 5,
   "metadata": {},
   "outputs": [
    {
     "data": {
      "image/png": "[encoded data removed]",
      "text/plain": [
       "<Figure size 640x480 with 1 Axes>"
      ]
     },
     "metadata": {},
     "output_type": "display_data"
    }
   ],
   "source": [
    "import numpy as np\n",
    "import matplotlib.pyplot as plt\n",
    "\n",
    "# Generating samples from a normal distribution\n",
    "mean = 0\n",
    "std_dev = 1\n",
    "samples = np.random.normal(mean, std_dev, 1000)\n",
    "\n",
    "# Plotting histogram of samples\n",
    "plt.hist(samples, bins=30, density=True, alpha=0.5, color='blue')\n",
    "plt.title('Normal Distribution')\n",
    "plt.xlabel('Value')\n",
    "plt.ylabel('Frequency')\n",
    "plt.show()\n"
   ]
  },
  {
   "cell_type": "code",
   "execution_count": null,
   "metadata": {},
   "outputs": [],
   "source": []
  }
 ],
 "metadata": {
  "kernelspec": {
   "display_name": "transformer",
   "language": "python",
   "name": "python3"
  },
  "language_info": {
   "codemirror_mode": {
    "name": "ipython",
    "version": 3
   },
   "file_extension": ".py",
   "mimetype": "text/x-python",
   "name": "python",
   "nbconvert_exporter": "python",
   "pygments_lexer": "ipython3",
   "version": "3.10.11"
  }
 },
 "nbformat": 4,
 "nbformat_minor": 2
}
